{
  "nbformat": 4,
  "nbformat_minor": 0,
  "metadata": {
    "colab": {
      "provenance": [],
      "authorship_tag": "ABX9TyNevKSnmLNPUZyIx+yS8+6S",
      "include_colab_link": true
    },
    "kernelspec": {
      "name": "python3",
      "display_name": "Python 3"
    },
    "language_info": {
      "name": "python"
    }
  },
  "cells": [
    {
      "cell_type": "markdown",
      "metadata": {
        "id": "view-in-github",
        "colab_type": "text"
      },
      "source": [
        "<a href=\"https://colab.research.google.com/github/mikezime/Collab/blob/main/LinkedLists.ipynb\" target=\"_parent\"><img src=\"https://colab.research.google.com/assets/colab-badge.svg\" alt=\"Open In Colab\"/></a>"
      ]
    },
    {
      "cell_type": "code",
      "execution_count": 3,
      "metadata": {
        "colab": {
          "base_uri": "https://localhost:8080/"
        },
        "id": "oZN0np1IZqO1",
        "outputId": "772786a2-e747-4a54-e014-8cae8e0ead35"
      },
      "outputs": [
        {
          "output_type": "stream",
          "name": "stdout",
          "text": [
            "1\n",
            "2\n",
            "3\n",
            "4\n",
            "5\n",
            "6\n",
            "7\n",
            "8\n",
            "9\n"
          ]
        }
      ],
      "source": [
        "class Node:\n",
        "  def __init__(self, data):\n",
        "    self.val = data\n",
        "    self.next = None\n",
        "\n",
        "def print_list(head):\n",
        "  while head:\n",
        "    print(head.val)\n",
        "    head = head.next\n",
        "\n",
        "guard=Node(0)\n",
        "prev=guard\n",
        "for i in range(1,10):\n",
        "  node = Node(i)\n",
        "  prev.next = node\n",
        "  prev = node\n",
        ""
      ]
    }
  ]
}